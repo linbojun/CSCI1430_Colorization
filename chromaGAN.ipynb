{
  "nbformat": 4,
  "nbformat_minor": 0,
  "metadata": {
    "colab": {
      "name": "chromaGAN.ipynb",
      "provenance": [],
      "collapsed_sections": [],
      "authorship_tag": "ABX9TyNr7nsDCKdvWXAV20ArHTtT",
      "include_colab_link": true
    },
    "kernelspec": {
      "name": "python3",
      "display_name": "Python 3"
    },
    "language_info": {
      "name": "python"
    }
  },
  "cells": [
    {
      "cell_type": "markdown",
      "metadata": {
        "id": "view-in-github",
        "colab_type": "text"
      },
      "source": [
        "<a href=\"https://colab.research.google.com/github/linbojun/CSCI1430_Colorization/blob/main/chromaGAN.ipynb\" target=\"_parent\"><img src=\"https://colab.research.google.com/assets/colab-badge.svg\" alt=\"Open In Colab\"/></a>"
      ]
    },
    {
      "cell_type": "code",
      "metadata": {
        "id": "1OB08APF0vhP"
      },
      "source": [
        "import tensorflow as tf\n",
        "import numpy as np\n"
      ],
      "execution_count": 2,
      "outputs": []
    },
    {
      "cell_type": "code",
      "metadata": {
        "id": "_juggMGb0n-b"
      },
      "source": [
        "class discriminator(tf.keras.Model):\n",
        "  def __init__(self):\n",
        "    super(discriminator, self).__init__()\n",
        "    self.conv1 = tf.nn.Conv2d(3, 64, filters=(4,4),stride=(2,2), padding=1) # 64, 112, 112\n",
        "    self.conv2 = tf.nn.Conv2d(64, 128, filters=(4,4),stride=(2,2), padding=1) # 128, 56, 56\n",
        "    self.conv3 = tf.nn.Conv2d(128,256, filters=(4,4),stride=(2,2), padding=1) # 256, 28, 28, 2\n",
        "    self.conv4 = tf.nn.Conv2d(256,512, filters=(4,4),stride=(2,2), padding=1)# 512, 28, 28\n",
        "    self.conv5 = tf.nn.Conv2d(512,1, filters=(4,4),stride=(2,2), padding=1) # 1, \n",
        "    self.relu = tf.nn.LeakyReLU(0.3)\n",
        "\n",
        "  def call(self, inputs):\n",
        "    token = self.conv1(inputs)               #[-1, 64, 112, 112]\n",
        "    token = self.relu(token)                 #[-1, 64, 112, 112]    \n",
        "    token = self.conv2(token)                #[-1, 128, 56, 56] \n",
        "    token = self.relu(token)                 #[-1, 128, 56, 56] \n",
        "    token = self.conv3(token)                #[-1, 256, 28, 28]\n",
        "    token = self.relu(token)                 #[-1, 256, 28, 28]   \n",
        "    token = self.conv4(token)                #[-1, 512, 27, 27]\n",
        "    token = self.relu(token)                 #[-1, 512, 27, 27]\n",
        "    token = self.conv5(token)                #[-1, 1, 26, 26]\n",
        "    return net\n",
        "\n"
      ],
      "execution_count": 4,
      "outputs": []
    },
    {
      "cell_type": "code",
      "metadata": {
        "id": "7dbJ1GAflIxy"
      },
      "source": [
        "class generator(tf.keras.Model):\n",
        "  def __init__(self):\n",
        "    super(generator, self).__init__()\n",
        "    self.VGG = tf.applications.vgg16.VGG16(weights='imagenet', include_top=False, input_shape=(224, 224, 3))\n",
        "    self.VGG = tf.keras.models.Model(VGG_model.input,VGG_model.layers[-6].output)\n",
        "    # Global Features\n",
        "\n",
        "    self.global_conv1 = tf.keras.layers.Conv2D(512, (3, 3), padding='same', strides=(2, 2), activation='relu')\n",
        "    self.global_conv2 = tf.keras.layers.Conv2D(512, (3, 3), padding='same', strides=(1, 1), activation='relu')\n",
        "\n",
        "    self.global_conv3 = tf.keras.layers.Conv2D(512, (3, 3), padding='same', strides=(2, 2), activation='relu')\n",
        "    self.global_conv4 = tf.keras.layers.Conv2D(512, (3, 3), padding='same', strides=(1, 1), activation='relu')\n",
        "\n",
        "    self.flatten = tf.keras.layers.Flatten()\n",
        "    self.global_dense1 = tf.keras.layers.Dense(1024)\n",
        "    self.global_dense2 = tf.keras.layers.Dense(512)\n",
        "    self.global_dense3 = tf.keras.layers.Dense(256)\n",
        "    self.global_repeat = tf.keras.layers.RepeatVector(28*28)\n",
        "    self.global_reshape = tf.keras.layers.Reshape((28,28, 256))\n",
        "\n",
        "    # self.global_dense4 = tf.keras.layers.Dense(4096)\n",
        "    # self.global_dense5 = tf.keras.layers.Dense(4096)\n",
        "    # self.global_dense6 = tf.keras.layers.Dense(1000, activation='softmax')\n",
        "    self.batchnorm = tf.keras.layers.BatchNormalization()\n",
        "\n",
        "    # Midlevel Features\n",
        "\n",
        "    self.mid_conv1 = tf.keras.layers.Conv2D(512, (3, 3),  padding='same', strides=(1, 1), activation='relu')\n",
        "    self.mid_conv2 = tf.keras.layers.Conv2D(256, (3, 3),  padding='same', strides=(1, 1), activation='relu')\n",
        "\n",
        "    # fusion of (VGG16 + Midlevel) + (VGG16 + Global)\n",
        "    self.fusion = tf.keras.layers.concatenate\n",
        "    \n",
        "    # Fusion + Colorization\n",
        "    self.out_conv1 = tf.keras.layers.Conv2D(256, (1, 1), padding='same', strides=(1, 1), activation='relu')\n",
        "    self.out_conv2 = tf.keras.layers.Conv2D(128, (3, 3), padding='same', strides=(1, 1), activation='relu')\n",
        "    self.out_up_sample = keras.layers.UpSampling2D(size=(2,2))\n",
        "    self.out_conv3 = tf.keras.layers.Conv2D(64, (3, 3), padding='same', strides=(1, 1), activation='relu')\n",
        "    self.out_conv4 = tf.keras.layers.Conv2D(64, (3, 3), padding='same', strides=(1, 1), activation='relu')\n",
        "    self.out_conv5 = tf.keras.layers.Conv2D(32, (3, 3), padding='same', strides=(1, 1), activation='relu')\n",
        "    self.out_conv6 = tf.keras.layers.Conv2D(2, (3, 3), padding='same', strides=(1, 1), activation='sigmoid')\n",
        "\n",
        "  def call(self, inputs):\n",
        "    vgg_res = self.VGG(inputs)\n",
        "\n",
        "    #global feature\n",
        "    global_feat= self.global_conv1(vgg_res)\n",
        "    global_feat = self.batchnorm(global_feat)\n",
        "\n",
        "    global_feat = self.global_conv2(global_feat)\n",
        "    global_feat = self.batchnorm(global_feat)\n",
        "\n",
        "    global_feat = self.global_conv3(global_feat)\n",
        "    global_feat = self.batchnorm(global_feat)\n",
        "\n",
        "    global_feat = self.global_conv4(global_feat)\n",
        "    global_feat = self.batchnorm(global_feat)\n",
        "\n",
        "    global_feat2 = self.flatten(global_feat)\n",
        "\n",
        "    global_feat2 = self.global_dense1(global_feat2)\n",
        "    global_feat2 = self.global_dense2(global_feat2)\n",
        "    global_feat2 = self.global_dense3(global_feat2)\n",
        "    global_feat2 = self.global_repeat(global_feat2)\n",
        "\n",
        "    #mid feature\n",
        "    mid_feat = self.mid_conv1(vgg_res)\n",
        "    mid_feat = self.batchnorm(mid_feat)\n",
        "    mid_feat = self.mid_conv2(vgg_res)\n",
        "    mid_feat = self.batchnorm(mid_feat)\n",
        "\n",
        "    #fusion\n",
        "    fusion_feat =  self.fusion([mid_feat, global_feat2])\n",
        "\n",
        "    #output\n",
        "    out = self.out_conv1(fusion_feat)\n",
        "    out = self.out_conv2(out)\n",
        "\n",
        "    out = self.out_up_sample(out)\n",
        "    out = self.out_conv3(out)\n",
        "    out = self.out_conv4(out)\n",
        "\n",
        "    out = self.out_up_sample(out)\n",
        "    out = self.out_conv5(out)\n",
        "    out = self.out_conv6(out)\n",
        "\n",
        "    out = self.out_up_sample(out)\n",
        "    return out;\n",
        "\n",
        "\n",
        "    \n",
        "    "
      ],
      "execution_count": null,
      "outputs": []
    }
  ]
}